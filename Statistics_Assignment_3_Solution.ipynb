{
 "cells": [
  {
   "cell_type": "markdown",
   "metadata": {},
   "source": [
    "## Problem Statement 1:"
   ]
  },
  {
   "cell_type": "markdown",
   "metadata": {},
   "source": [
    "### Blood glucose levels for obese patients have a mean of 100 with a standard deviation of 15.A researcher thinks that a diet high in raw cornstarch will have a positive effect on blood glucose levels. A sample of 36 patients who have tried the raw cornstarch diet have a mean glucose level of 108. Test the hypothesis that the raw cornstarch had an effect or not."
   ]
  },
  {
   "cell_type": "code",
   "execution_count": 66,
   "metadata": {},
   "outputs": [],
   "source": [
    "import math\n",
    "no_of_sample=36\n",
    "sample_mean=108\n",
    "population_mean=100\n",
    "population_sigma=15"
   ]
  },
  {
   "cell_type": "markdown",
   "metadata": {},
   "source": [
    "##### Step-1: State the hypotheses. The population mean is 100.\n",
    "##### H0: μ=100 ==> null hypothesis.\n",
    "##### H1: μ≠100  ==> Alternate hypothesis.\n",
    "##### Step-2: Set up the significance level. It is not given in the problem so let’s assume it as 5% (0.05).\n",
    "##### Step-3: Calculate Z Score."
   ]
  },
  {
   "cell_type": "code",
   "execution_count": 67,
   "metadata": {},
   "outputs": [
    {
     "name": "stdout",
     "output_type": "stream",
     "text": [
      "Z Score = 3.2\n"
     ]
    }
   ],
   "source": [
    "z=(sample_mean-population_mean)/(population_sigma/math.sqrt(no_of_sample))\n",
    "print(\"Z Score =\", z)"
   ]
  },
  {
   "cell_type": "markdown",
   "metadata": {},
   "source": [
    "##### By looking at z-table and p-value associated with 3.20 is 0.9993.\n",
    "##### The probability of having value less than 108 is 0.9993 and more than or equals to 108 is (1-0.9993)=0.0007.\n",
    "##### Step-4: Sice the probability of having mean glucose level more than or equals to 108  is 0.0007 which is less than 0.05. \n",
    "##### So we will reject the Null hypothesis i.e. there is raw cornstarch effect."
   ]
  },
  {
   "cell_type": "markdown",
   "metadata": {},
   "source": [
    "## Problem Statement 2:"
   ]
  },
  {
   "cell_type": "markdown",
   "metadata": {},
   "source": [
    "### In one state, 52% of the voters are Republicans, and 48% are Democrats. In a second state, 47% of the voters are Republicans, and 53% are Democrats. Suppose a simple random sample of 100 voters are surveyed from each state."
   ]
  },
  {
   "cell_type": "markdown",
   "metadata": {},
   "source": [
    "### What is the probability that the survey will show a greater percentage of Republican voters in the second state than in the first state?"
   ]
  },
  {
   "cell_type": "markdown",
   "metadata": {},
   "source": [
    "##### P1=the proportion of Republican voters in the first state.\n",
    "##### P2=the proportion of Republican voters in the second state.\n",
    "##### p1=the proportion of Republican voters in the sample from the first state.\n",
    "##### p2=the proportion of Republican voters in the sample from the second state. "
   ]
  },
  {
   "cell_type": "markdown",
   "metadata": {},
   "source": [
    "##### The number of voters sampled from the first state (n1)=100."
   ]
  },
  {
   "cell_type": "code",
   "execution_count": 68,
   "metadata": {},
   "outputs": [],
   "source": [
    "n1=100"
   ]
  },
  {
   "cell_type": "markdown",
   "metadata": {},
   "source": [
    "##### The number of voters sampled from the second state (n2)=100."
   ]
  },
  {
   "cell_type": "code",
   "execution_count": 69,
   "metadata": {},
   "outputs": [],
   "source": [
    "n2=100"
   ]
  },
  {
   "cell_type": "code",
   "execution_count": 70,
   "metadata": {},
   "outputs": [],
   "source": [
    "P1=0.52"
   ]
  },
  {
   "cell_type": "markdown",
   "metadata": {},
   "source": [
    "##### (1-P1)=Q1"
   ]
  },
  {
   "cell_type": "code",
   "execution_count": 71,
   "metadata": {},
   "outputs": [],
   "source": [
    "Q1=0.48\n",
    "P2=0.47"
   ]
  },
  {
   "cell_type": "markdown",
   "metadata": {},
   "source": [
    "##### (1-P2)=Q2"
   ]
  },
  {
   "cell_type": "code",
   "execution_count": 72,
   "metadata": {},
   "outputs": [],
   "source": [
    "Q2=0.53"
   ]
  },
  {
   "cell_type": "markdown",
   "metadata": {},
   "source": [
    "##### The mean of the difference in sample proportions i.e. Expected Value E[p1-p2]=P1-P2=mu"
   ]
  },
  {
   "cell_type": "code",
   "execution_count": 73,
   "metadata": {},
   "outputs": [],
   "source": [
    "mu=P1-P2\n",
    "std=math.sqrt((P1*(1-P1)/n1)+(P2*(1-P2)/n2))"
   ]
  },
  {
   "cell_type": "markdown",
   "metadata": {},
   "source": [
    "##### The standard deviation of the difference (std)."
   ]
  },
  {
   "cell_type": "code",
   "execution_count": 74,
   "metadata": {},
   "outputs": [
    {
     "name": "stdout",
     "output_type": "stream",
     "text": [
      "Mu = 0.05\n",
      "Std = 0.07\n"
     ]
    }
   ],
   "source": [
    "print(\"Mu = \"+\"{0:.2f}\".format(mu))\n",
    "print(\"Std = \"+\"{0:.2f}\".format(std))"
   ]
  },
  {
   "cell_type": "markdown",
   "metadata": {},
   "source": [
    "##### This problem requires us to find the probability that p1 is less than p2. \n",
    "##### This is equivalent to finding the probability that p1-p2<0."
   ]
  },
  {
   "cell_type": "code",
   "execution_count": 75,
   "metadata": {},
   "outputs": [],
   "source": [
    "x=0"
   ]
  },
  {
   "cell_type": "markdown",
   "metadata": {},
   "source": [
    "##### To find this probability, we need to transform the random variable (p1-p2) into a z-score. \n",
    "##### That transformation appears below:"
   ]
  },
  {
   "cell_type": "code",
   "execution_count": 76,
   "metadata": {},
   "outputs": [
    {
     "name": "stdout",
     "output_type": "stream",
     "text": [
      "Z_score (p1, p2) = -0.71\n"
     ]
    }
   ],
   "source": [
    "Z_p1_p2 = (x-mu)/std\n",
    "print(\"Z_score (p1, p2) = \"+\"{0:.2f}\".format(Z_p1_p2))"
   ]
  },
  {
   "cell_type": "markdown",
   "metadata": {},
   "source": [
    "##### From Z table we find that the probability of a z-score being -0.7082 or less is 0.24.\n",
    "##### Therefore, the probability that the survey will show a greater percentage of Republican voters in the second state than in the first state is 0.24."
   ]
  },
  {
   "cell_type": "markdown",
   "metadata": {},
   "source": [
    "## Problem Statement 3:"
   ]
  },
  {
   "cell_type": "markdown",
   "metadata": {},
   "source": [
    "### You take the SAT and score 1100. The mean score for the SAT is 1026 and the standard deviation is 209. How well did you score on the test compared to the average test taker?"
   ]
  },
  {
   "cell_type": "code",
   "execution_count": 77,
   "metadata": {},
   "outputs": [
    {
     "name": "stdout",
     "output_type": "stream",
     "text": [
      "Z Score = 0.35\n"
     ]
    }
   ],
   "source": [
    "x=1100\n",
    "mu=1026\n",
    "sd=209\n",
    "z=(x-mu)/sd\n",
    "print(\"Z Score = \"+\"{0:.2f}\".format(z))"
   ]
  },
  {
   "cell_type": "markdown",
   "metadata": {},
   "source": [
    "##### The above calculation shows that my score is 0.35 standard deviations above the mean."
   ]
  },
  {
   "cell_type": "code",
   "execution_count": 78,
   "metadata": {},
   "outputs": [
    {
     "name": "stdout",
     "output_type": "stream",
     "text": [
      "Score is in the range 817 - 1235  with a  z-score of 0.35\n"
     ]
    }
   ],
   "source": [
    "print(\"Score is in the range {} - {}  with a  z-score of {:.2f}\".format(mu-sd, mu+sd, z))"
   ]
  }
 ],
 "metadata": {
  "kernelspec": {
   "display_name": "Python 3",
   "language": "python",
   "name": "python3"
  },
  "language_info": {
   "codemirror_mode": {
    "name": "ipython",
    "version": 3
   },
   "file_extension": ".py",
   "mimetype": "text/x-python",
   "name": "python",
   "nbconvert_exporter": "python",
   "pygments_lexer": "ipython3",
   "version": "3.7.6"
  }
 },
 "nbformat": 4,
 "nbformat_minor": 4
}
