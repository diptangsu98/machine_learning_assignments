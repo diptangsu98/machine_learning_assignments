{
 "cells": [
  {
   "cell_type": "markdown",
   "metadata": {},
   "source": [
    "## Problem Statement 1"
   ]
  },
  {
   "cell_type": "markdown",
   "metadata": {},
   "source": [
    "### Write a function so that the columns of the output matrix are powers of the input vector."
   ]
  },
  {
   "cell_type": "markdown",
   "metadata": {},
   "source": [
    "### The order of the powers is determined by the increasing boolean argument. Specifically, when increasing is False, the i-th output column is the input vector raised element-wise to the power of N-i-1."
   ]
  },
  {
   "cell_type": "markdown",
   "metadata": {},
   "source": [
    "### HINT: Such a matrix with a geometric progression in each row is named for Alexandre- Theophile Vandermonde."
   ]
  },
  {
   "cell_type": "code",
   "execution_count": 27,
   "metadata": {},
   "outputs": [],
   "source": [
    "import numpy as np"
   ]
  },
  {
   "cell_type": "code",
   "execution_count": 28,
   "metadata": {},
   "outputs": [
    {
     "data": {
      "text/plain": [
       "array([[   1,    1,    1,    1,    1],\n",
       "       [  81,   27,    9,    3,    1],\n",
       "       [ 625,  125,   25,    5,    1],\n",
       "       [2401,  343,   49,    7,    1],\n",
       "       [6561,  729,   81,    9,    1]])"
      ]
     },
     "execution_count": 28,
     "metadata": {},
     "output_type": "execute_result"
    }
   ],
   "source": [
    "def x(arr, n=None, i=False):\n",
    "    m=np.asarray(arr)\n",
    "    if m.ndim!=1:\n",
    "        raise ValueError(\"The expected input is one dimensional array\")\n",
    "    if n is None:\n",
    "        n=len(m)\n",
    "    r=np.empty((len(m),n), dtype=np.promote_types(m.dtype, int))\n",
    "    temp=r[:, ::-1] if not i else r\n",
    "    if n>0:\n",
    "        temp[:, 0]=1\n",
    "    if n>1:\n",
    "        temp[:, 1:]=m[:, None]\n",
    "        np.multiply.accumulate(temp[:, 1:], out=temp[:, 1:], axis=1)\n",
    "    return r\n",
    "t=[1,3,5,7,9]\n",
    "x(t)"
   ]
  },
  {
   "cell_type": "markdown",
   "metadata": {},
   "source": [
    "## Problem Statement 2"
   ]
  },
  {
   "cell_type": "markdown",
   "metadata": {},
   "source": [
    "### Given a sequence of n values x1, x2, ..., xn and a window size k>0, the k-th moving average of the given sequence is defined as follows:"
   ]
  },
  {
   "cell_type": "markdown",
   "metadata": {},
   "source": [
    "### The moving average sequence has n-k+1 elements as shown below."
   ]
  },
  {
   "cell_type": "markdown",
   "metadata": {},
   "source": [
    "### The moving averages with k=4 of a ten-value sequence (n=10) is shown below"
   ]
  },
  {
   "cell_type": "markdown",
   "metadata": {},
   "source": [
    "### i 1 2 3 4 5 6 7 8 9 10\n",
    "### ===== == == == == == == == == == ==\n",
    "### Input 10 20 30 40 50 60 70 80 90 100\n",
    "### y1 25 = (10+20+30+40)/4\n",
    "### y2 35 = (20+30+40+50)/4\n",
    "### y3 45 = (30+40+50+60)/4\n",
    "### y4 55 = (40+50+60+70)/4\n",
    "### y5 65 = (50+60+70+80)/4\n",
    "### y6 75 = (60+70+80+90)/4\n",
    "### y7 85 = (70+80+90+100)/4"
   ]
  },
  {
   "cell_type": "markdown",
   "metadata": {},
   "source": [
    "### Thus, the moving average sequence has n-k+1=10-4+1=7 values."
   ]
  },
  {
   "cell_type": "markdown",
   "metadata": {},
   "source": [
    "### Question: Write a function to find moving average in an array over a window:"
   ]
  },
  {
   "cell_type": "markdown",
   "metadata": {},
   "source": [
    "### Test it over [3, 5, 7, 2, 8, 10, 11, 65, 72, 81, 99, 100, 150] and window of 3."
   ]
  },
  {
   "cell_type": "code",
   "execution_count": 29,
   "metadata": {},
   "outputs": [],
   "source": [
    "def y(arr, n=3):\n",
    "    try:\n",
    "        type(n)=='int' and n<len(arr)\n",
    "    except ValueError:\n",
    "        print(\"Window size is either not in int or out of range\")\n",
    "        return None\n",
    "    arr=np.asarray(arr)\n",
    "    if arr.ndim!=1:\n",
    "        print(\"The input should be one dimensional array\")\n",
    "        return None \n",
    "    i=0\n",
    "    r=[]\n",
    "    while i<(len(arr)-n+1):\n",
    "        w=arr[i:i+n]\n",
    "        avg=sum(w)/n\n",
    "        r.append(avg)\n",
    "        i=i+1\n",
    "    return r"
   ]
  },
  {
   "cell_type": "code",
   "execution_count": 30,
   "metadata": {},
   "outputs": [
    {
     "name": "stdout",
     "output_type": "stream",
     "text": [
      "**** Input values are ****\n",
      "[3, 5, 7, 2, 8, 10, 11, 65, 72, 81, 99, 100, 150]\n",
      "**** Output values are ****\n"
     ]
    },
    {
     "data": {
      "text/plain": [
       "[5.0,\n",
       " 4.666666666666667,\n",
       " 5.666666666666667,\n",
       " 6.666666666666667,\n",
       " 9.666666666666666,\n",
       " 28.666666666666668,\n",
       " 49.333333333333336,\n",
       " 72.66666666666667,\n",
       " 84.0,\n",
       " 93.33333333333333,\n",
       " 116.33333333333333]"
      ]
     },
     "execution_count": 30,
     "metadata": {},
     "output_type": "execute_result"
    }
   ],
   "source": [
    "c=[3, 5, 7, 2, 8, 10, 11, 65, 72, 81, 99, 100, 150]\n",
    "print(\"**** Input values are ****\")\n",
    "print(c)\n",
    "print(\"**** Output values are ****\")\n",
    "y(c, n=3)"
   ]
  }
 ],
 "metadata": {
  "kernelspec": {
   "display_name": "Python 3",
   "language": "python",
   "name": "python3"
  },
  "language_info": {
   "codemirror_mode": {
    "name": "ipython",
    "version": 3
   },
   "file_extension": ".py",
   "mimetype": "text/x-python",
   "name": "python",
   "nbconvert_exporter": "python",
   "pygments_lexer": "ipython3",
   "version": "3.7.3"
  }
 },
 "nbformat": 4,
 "nbformat_minor": 2
}
