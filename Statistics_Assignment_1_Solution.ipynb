{
 "cells": [
  {
   "cell_type": "markdown",
   "metadata": {},
   "source": [
    "#### Calculate the mean, median, mode and standard deviation for the problem statements 1 & 2."
   ]
  },
  {
   "cell_type": "markdown",
   "metadata": {},
   "source": [
    "### Problem Statement 1:"
   ]
  },
  {
   "cell_type": "markdown",
   "metadata": {},
   "source": [
    "#### The marks awarded for an assignment set for a Year 8 class of 20 students were as follows:\n",
    "#### 6 7 5 7 7 8 7 6 9 7 4 10 6 8 8 9 5 6 4 8"
   ]
  },
  {
   "cell_type": "code",
   "execution_count": 3,
   "metadata": {},
   "outputs": [
    {
     "name": "stdout",
     "output_type": "stream",
     "text": [
      "Mean =  6.85\n",
      "Median =  7.0\n",
      "Mode =  ModeResult(mode=array([7]), count=array([5]))\n",
      "Standard Deviation =  1.5898113095584647\n"
     ]
    }
   ],
   "source": [
    "import numpy as np\n",
    "from scipy import stats\n",
    "marks=[6, 7, 5, 7, 7, 8, 7, 6, 9, 7, 4, 10, 6, 8, 8, 9, 5, 6, 4, 8]\n",
    "print(\"Mean = \", np.mean(marks))\n",
    "print(\"Median = \", np.median(marks))\n",
    "print(\"Mode = \", stats.mode(marks))\n",
    "print(\"Standard Deviation = \", np.std(marks))"
   ]
  },
  {
   "cell_type": "markdown",
   "metadata": {},
   "source": [
    "### Problem Statement 2:"
   ]
  },
  {
   "cell_type": "markdown",
   "metadata": {},
   "source": [
    "#### The number of calls from motorists per day for roadside service was recorded for a particular month:\n",
    "#### 28, 122, 217, 130, 120, 86, 80, 90, 140, 120, 70, 40, 145, 113, 90, 68, 174, 194, 170, 100, 75, 104, 97, 75, 123, 100, 75, 104, 97, 75, 123, 100, 89, 120, 109"
   ]
  },
  {
   "cell_type": "code",
   "execution_count": 3,
   "metadata": {},
   "outputs": [
    {
     "name": "stdout",
     "output_type": "stream",
     "text": [
      "Mean =  107.51428571428572\n",
      "Median =  100.0\n",
      "Mode =  ModeResult(mode=array([75]), count=array([4]))\n",
      "Standard Deviation =  38.77287080168403\n"
     ]
    }
   ],
   "source": [
    "calls=[28, 122, 217, 130, 120, 86, 80, 90, 140, 120, 70, 40, 145, 113, 90, 68, 174, 194, 170, 100, 75, 104, 97, 75, 123, 100, 75, 104, 97, 75, 123, 100, 89, 120, 109]\n",
    "print(\"Mean = \", np.mean(calls))\n",
    "print(\"Median = \", np.median(calls))\n",
    "print(\"Mode = \", stats.mode(calls))\n",
    "print(\"Standard Deviation = \", np.std(calls))"
   ]
  },
  {
   "cell_type": "markdown",
   "metadata": {},
   "source": [
    "### Problem Statement 3:"
   ]
  },
  {
   "cell_type": "markdown",
   "metadata": {},
   "source": [
    "#### The number of times I go to the gym in weekdays, are given below along with its associated probability:\n",
    "#### x = 0, 1, 2, 3, 4, 5\n",
    "#### f(x) = 0.09, 0.15, 0.40, 0.25, 0.10, 0.01\n",
    "#### Calculate the mean no. of workouts in a week. Also evaluate the variance involved in it."
   ]
  },
  {
   "cell_type": "code",
   "execution_count": 4,
   "metadata": {},
   "outputs": [
    {
     "name": "stdout",
     "output_type": "stream",
     "text": [
      "Mean =  2.15\n",
      "Variance =  1.2275\n"
     ]
    }
   ],
   "source": [
    "x=[0, 1, 2, 3, 4, 5]\n",
    "p=[0.09, 0.15, 0.40, 0.25, 0.10, 0.01]\n",
    "mean=0\n",
    "variance=0\n",
    "for i in range(0, len(x)):\n",
    "    mean=mean+(x[i]*p[i])\n",
    "for i in range(0, len(x)):\n",
    "    difference=((x[i]-mean)**2)*p[i]\n",
    "    variance+=difference\n",
    "print(\"Mean = \",mean)\n",
    "print(\"Variance = \",variance)"
   ]
  },
  {
   "cell_type": "markdown",
   "metadata": {},
   "source": [
    "### Problem Statement 4:"
   ]
  },
  {
   "cell_type": "markdown",
   "metadata": {},
   "source": [
    "#### Let the continuous random variable D denote the diameter of the hole drilled in an aluminum sheet. The target diameter to be achieved is 12.5mm. Random disturbances in the process often result in inaccuracy. Historical data shows that the distribution of D can be modelled by the PDF(d) = 20e−20(d−12.5), d ≥ 12.5. If a part with diameter > 12.6 mm needs to be scrapped, what is the proportion of those parts? What is the CDF when the diameter is of 11 mm? What is your conclusion regarding the proportion of scraps?"
   ]
  },
  {
   "cell_type": "code",
   "execution_count": 13,
   "metadata": {},
   "outputs": [],
   "source": [
    "import sys\n",
    "from scipy.integrate import quad"
   ]
  },
  {
   "cell_type": "code",
   "execution_count": 14,
   "metadata": {},
   "outputs": [],
   "source": [
    "def intergrand(d):\n",
    "    return 20*(np.exp(-20*(d-12.5)))\n",
    "prop,err = quad(intergrand,12.5,12.6)"
   ]
  },
  {
   "cell_type": "code",
   "execution_count": 15,
   "metadata": {},
   "outputs": [
    {
     "name": "stdout",
     "output_type": "stream",
     "text": [
      "If a part with diameter > 12.6 mm needs to be scrapped, the proportion of those parts: 0.13533528323662825\n"
     ]
    }
   ],
   "source": [
    "print(f'If a part with diameter > 12.6 mm needs to be scrapped, the proportion of those parts: {1 - prop}')"
   ]
  },
  {
   "cell_type": "markdown",
   "metadata": {},
   "source": [
    "- Part 2"
   ]
  },
  {
   "cell_type": "markdown",
   "metadata": {},
   "source": [
    "`CDF when diameter is 11mm`\n",
    "\n",
    "f = -np.exp(-20*(d-11)), where d>=11"
   ]
  },
  {
   "cell_type": "markdown",
   "metadata": {},
   "source": [
    "### Problem Statement 5:"
   ]
  },
  {
   "cell_type": "markdown",
   "metadata": {},
   "source": [
    "#### A company manufactures LED bulbs with a faulty rate of 30%. If I randomly select 6 chosen LEDs, what is the probability of having 2 faulty LEDs in my sample? Calculate the average value of this process. Also evaluate the standard deviation associated with it."
   ]
  },
  {
   "cell_type": "code",
   "execution_count": 5,
   "metadata": {},
   "outputs": [
    {
     "name": "stdout",
     "output_type": "stream",
     "text": [
      "If 6 chosen LEDs are randomly selected, the probability of having 2 faulty LEDs in the sample =  0.32413499999999995\n",
      "Standard Deviation =  1.1224972160321822\n"
     ]
    }
   ],
   "source": [
    "from scipy.stats import binom\n",
    "data=binom.pmf(k=2, n=6, p=0.3, loc=0)\n",
    "sd=binom.std(n=6, p=0.3, loc=0)\n",
    "print(\"If 6 chosen LEDs are randomly selected, the probability of having 2 faulty LEDs in the sample = \", data)\n",
    "print(\"Standard Deviation = \", sd)"
   ]
  },
  {
   "cell_type": "markdown",
   "metadata": {},
   "source": [
    "### Problem Statement 6:"
   ]
  },
  {
   "cell_type": "markdown",
   "metadata": {},
   "source": [
    "#### Gaurav and Barakha are both preparing for entrance exams. Gaurav attempts to solve 8 questions per day with a correction rate of 75%, while Barakha averages around 12 questions per day with a correction rate of 45%. What is the probability that each of them will solve 5 questions correctly? What happens in cases of 4 and 6 correct solutions? What do you infer from it? What are the two main governing factors affecting their ability to solve questions correctly? Give a pictorial representation of the same to validate your answer."
   ]
  },
  {
   "cell_type": "code",
   "execution_count": 6,
   "metadata": {},
   "outputs": [
    {
     "name": "stdout",
     "output_type": "stream",
     "text": [
      "The probabilty of Gaurav solving 5 questions correctly =  0.20764160156250022\n",
      "The probabilty of Barakha solving 5 questions correctly =  0.22249823843265792\n",
      "The probabilty of Gaurav solving 4 questions correctly =  0.08651733398437506\n",
      "The probabilty of Barakha solving 4 questions correctly =  0.16996393213605795\n",
      "The probabilty of Gaurav solving 6 questions correctly =  0.31146240234375017\n",
      "The probabilty of Barakha solving 6 questions correctly =  0.21238468214026424\n"
     ]
    }
   ],
   "source": [
    "print(\"The probabilty of Gaurav solving 5 questions correctly = \", binom.pmf(k=5, n=8, p=0.75, loc=0))\n",
    "print(\"The probabilty of Barakha solving 5 questions correctly = \", binom.pmf(k=5, n=12, p=0.45, loc=0))\n",
    "print(\"The probabilty of Gaurav solving 4 questions correctly = \", binom.pmf(k=4, n=8, p=0.75, loc=0))\n",
    "print(\"The probabilty of Barakha solving 4 questions correctly = \", binom.pmf(k=4, n=12, p=0.45, loc=0))\n",
    "print(\"The probabilty of Gaurav solving 6 questions correctly = \", binom.pmf(k=6, n=8, p=0.75, loc=0))\n",
    "print(\"The probabilty of Barakha solving 6 questions correctly = \", binom.pmf(k=6, n=12, p=0.45, loc=0))"
   ]
  },
  {
   "cell_type": "markdown",
   "metadata": {},
   "source": [
    "- The inference drawn from the above results are:\n",
    " 1. The probabilty of Barakha solving 5 questions is more than that of Gaurav.\n",
    " 2. The probabilty of Gaurav solving 4 questions is more than that of Barakha.\n",
    " 3. The probabilty of Gaurav solving 6 questions is more than that of Barakha."
   ]
  },
  {
   "cell_type": "markdown",
   "metadata": {},
   "source": [
    "- The two main governing factors affecting their ability to solve questions correctly are:\n",
    " 1. Number of questions Gaurav and Barakha attempt to solve per day.\n",
    " 2. The correction rate of each of them."
   ]
  },
  {
   "cell_type": "markdown",
   "metadata": {},
   "source": [
    "### Pictorial Representation"
   ]
  },
  {
   "cell_type": "code",
   "execution_count": 7,
   "metadata": {},
   "outputs": [
    {
     "data": {
      "text/plain": [
       "[Text(0, 0.5, 'Probabilty'),\n",
       " Text(0.5, 0, 'No of questions solved correctly by Gaurav')]"
      ]
     },
     "execution_count": 7,
     "metadata": {},
     "output_type": "execute_result"
    },
    {
     "data": {
      "image/png": "[encoded data removed]",
      "text/plain": [
       "<Figure size 432x288 with 1 Axes>"
      ]
     },
     "metadata": {
      "needs_background": "light"
     },
     "output_type": "display_data"
    }
   ],
   "source": [
    "import seaborn\n",
    "data1=binom.rvs(n=8, p=0.75, loc=0, size=1010)\n",
    "ax=seaborn.distplot(data1, kde=True, color='red', hist_kws={\"linewidth\": 22,'alpha':0.77})\n",
    "ax.set(xlabel='No of questions solved correctly by Gaurav', ylabel='Probabilty')"
   ]
  },
  {
   "cell_type": "code",
   "execution_count": 111,
   "metadata": {},
   "outputs": [
    {
     "data": {
      "text/plain": [
       "[Text(0, 0.5, 'Probabilty'),\n",
       " Text(0.5, 0, 'No of questions solved correctly by Barakha')]"
      ]
     },
     "execution_count": 111,
     "metadata": {},
     "output_type": "execute_result"
    },
    {
     "data": {
      "image/png": "[encoded data removed]",
      "text/plain": [
       "<Figure size 432x288 with 1 Axes>"
      ]
     },
     "metadata": {
      "needs_background": "light"
     },
     "output_type": "display_data"
    }
   ],
   "source": [
    "data2=binom.rvs(n=12, p=0.45, loc=0, size=1010)\n",
    "ax=seaborn.distplot(data2, kde=True, color='blue', hist_kws={\"linewidth\": 22,'alpha':0.77})\n",
    "ax.set(xlabel='No of questions solved correctly by Barakha', ylabel='Probabilty')"
   ]
  },
  {
   "cell_type": "markdown",
   "metadata": {},
   "source": [
    "### Problem Statement 7:"
   ]
  },
  {
   "cell_type": "markdown",
   "metadata": {},
   "source": [
    "#### Customers arrive at a rate of 72 per hour to my shop. What is the probability of k customers arriving in 4 minutes?"
   ]
  },
  {
   "cell_type": "markdown",
   "metadata": {},
   "source": [
    "#### a) 5 customers"
   ]
  },
  {
   "cell_type": "code",
   "execution_count": 8,
   "metadata": {},
   "outputs": [
    {
     "name": "stdout",
     "output_type": "stream",
     "text": [
      "The probability of 5 customers arriving in 4 minutes = 0.17474768364388296\n"
     ]
    }
   ],
   "source": [
    "from scipy.stats import poisson\n",
    "print(\"The probability of 5 customers arriving in 4 minutes =\", poisson.pmf(k=5, mu=4.8, loc=0))"
   ]
  },
  {
   "cell_type": "code",
   "execution_count": 2,
   "metadata": {},
   "outputs": [
    {
     "data": {
      "text/plain": [
       "<matplotlib.collections.LineCollection at 0x1ea182ede08>"
      ]
     },
     "execution_count": 2,
     "metadata": {},
     "output_type": "execute_result"
    },
    {
     "data": {
      "image/png": "[encoded data removed]",
      "text/plain": [
       "<Figure size 432x288 with 1 Axes>"
      ]
     },
     "metadata": {
      "needs_background": "light"
     },
     "output_type": "display_data"
    }
   ],
   "source": [
    "import matplotlib.pyplot as plt\n",
    "fig, ax = plt.subplots(1, 1)\n",
    "ax.plot(5, poisson.pmf(k=5, mu=4.8), 'bo', ms=8, label='poisson pmf')\n",
    "ax.vlines(5, 0, poisson.pmf(k=5, mu=4.8), colors='b', lw=5, alpha=0.5)"
   ]
  },
  {
   "cell_type": "markdown",
   "metadata": {},
   "source": [
    "#### b) not more than 3 customers"
   ]
  },
  {
   "cell_type": "code",
   "execution_count": 10,
   "metadata": {},
   "outputs": [
    {
     "name": "stdout",
     "output_type": "stream",
     "text": [
      "The probability of not more than 3 customers arriving in 4 minutes = 0.28600016944754403\n"
     ]
    }
   ],
   "source": [
    "value=poisson.pmf(k=1, mu=4.8, loc=0)+poisson.pmf(k=2, mu=4.8, loc=0)+poisson.pmf(k=3, mu=4.8, loc=0)\n",
    "print(\"The probability of not more than 3 customers arriving in 4 minutes =\", value)"
   ]
  },
  {
   "cell_type": "code",
   "execution_count": 11,
   "metadata": {},
   "outputs": [
    {
     "data": {
      "text/plain": [
       "<matplotlib.collections.LineCollection at 0x254e4d7f8c8>"
      ]
     },
     "execution_count": 11,
     "metadata": {},
     "output_type": "execute_result"
    },
    {
     "data": {
      "image/png": "[encoded data removed]",
      "text/plain": [
       "<Figure size 432x288 with 1 Axes>"
      ]
     },
     "metadata": {
      "needs_background": "light"
     },
     "output_type": "display_data"
    }
   ],
   "source": [
    "import numpy as np\n",
    "import matplotlib.pyplot as plt\n",
    "fig, ax = plt.subplots(1, 1)\n",
    "a = np.array([poisson.pmf(k=1, mu=4.8, loc=0), poisson.pmf(k=2, mu=4.8, loc=0), poisson.pmf(k=3, mu=4.8, loc=0)])\n",
    "b = a.reshape((3,1))\n",
    "x = np.array([1, 2, 3])\n",
    "y = np.zeros((3, 1))\n",
    "ax.plot(x, b, 'bo', ms=8, label='poisson pmf')\n",
    "ax.vlines(x, y, b, colors='b', lw=5, alpha=0.5)"
   ]
  },
  {
   "cell_type": "markdown",
   "metadata": {},
   "source": [
    "#### c) more than 3 customers"
   ]
  },
  {
   "cell_type": "code",
   "execution_count": 12,
   "metadata": {},
   "outputs": [
    {
     "name": "stdout",
     "output_type": "stream",
     "text": [
      "The probability of more than 3 customers arriving in 4 minutes = 0.713999830552456\n"
     ]
    }
   ],
   "source": [
    "print(\"The probability of more than 3 customers arriving in 4 minutes =\", 1-value)"
   ]
  },
  {
   "cell_type": "markdown",
   "metadata": {},
   "source": [
    "### Problem Statement 8:"
   ]
  },
  {
   "cell_type": "markdown",
   "metadata": {},
   "source": [
    "#### I work as a data analyst in Aeon Learning Pvt. Ltd. After analyzing data, I make reports, where I have the efficiency of entering 77 words per minute with 6 errors per hour. What is the probability that I will commit 2 errors in a 455-word financial report? What happens when the no. of words increases/decreases (in case of 1000 words, 255 words)?"
   ]
  },
  {
   "cell_type": "markdown",
   "metadata": {},
   "source": [
    "#### How is the λ affected?"
   ]
  },
  {
   "cell_type": "code",
   "execution_count": 15,
   "metadata": {},
   "outputs": [
    {
     "name": "stdout",
     "output_type": "stream",
     "text": [
      "Total Time: 5.9091, Error/min: 0.1000, Rate Parameter: 0.5909\n"
     ]
    }
   ],
   "source": [
    "import math\n",
    "T = 455/77\n",
    "E = 6/60\n",
    "lambda_455 = T*E\n",
    "print(f'Total Time: {T:0.4f}, Error/min: {E:0.4f}, Rate Parameter: {lambda_455:0.4f}')"
   ]
  },
  {
   "cell_type": "code",
   "execution_count": 16,
   "metadata": {},
   "outputs": [
    {
     "name": "stdout",
     "output_type": "stream",
     "text": [
      "The probability of 2 erros in 455 word: 0.0967\n"
     ]
    }
   ],
   "source": [
    "P_455 = ((lambda_455**2)*(np.exp(-lambda_455)))/(np.math.factorial(2))\n",
    "print(f'The probability of 2 erros in 455 word: {P_455:0.4f}')"
   ]
  },
  {
   "cell_type": "markdown",
   "metadata": {},
   "source": [
    "#### How does it influence the PMF?"
   ]
  },
  {
   "cell_type": "code",
   "execution_count": 22,
   "metadata": {},
   "outputs": [
    {
     "name": "stdout",
     "output_type": "stream",
     "text": [
      "lambda_1000: 1.2987, P_1000: 0.2301\n",
      "lambda_255: 0.3312, P_255: 0.0394\n"
     ]
    }
   ],
   "source": [
    "lambda_1000 = (1000/77)*(6/60)\n",
    "P_1000 = ((lambda_1000**2)*(np.exp(-lambda_1000)))/(np.math.factorial(2))\n",
    "print(f'lambda_1000: {lambda_1000:0.4f}, P_1000: {P_1000:0.4f}')\n",
    "lambda_255 = (255/77)*(6/60)\n",
    "P_255 = ((lambda_255**2)*(np.exp(-lambda_255)))/(np.math.factorial(2))\n",
    "print(f'lambda_255: {lambda_255:0.4f}, P_255: {P_255:0.4f}')"
   ]
  },
  {
   "cell_type": "markdown",
   "metadata": {},
   "source": [
    "- So, We can conclude from the above results that:\n",
    "  1. If we increase/decrease number of words, it will directly effect the lambda (rate parameter). It means that, increasing words it will increase rate parameter & decreasing rate parameter will decrease rate parameter.\n",
    "    \n",
    "  2. The PMF will be directly influnced by the changing of number of words."
   ]
  },
  {
   "cell_type": "markdown",
   "metadata": {},
   "source": [
    "#### Give a pictorial representation of the same to validate your answer."
   ]
  },
  {
   "cell_type": "code",
   "execution_count": 21,
   "metadata": {},
   "outputs": [
    {
     "data": {
      "image/png": "[encoded data removed]",
      "text/plain": [
       "<Figure size 1440x432 with 3 Axes>"
      ]
     },
     "metadata": {},
     "output_type": "display_data"
    }
   ],
   "source": [
    "import matplotlib.pyplot as plt\n",
    "import seaborn as sns\n",
    "plt.style.use('seaborn')\n",
    "fig,ax = plt.subplots(1,3,figsize=(20,6))\n",
    "word = [255,455,1000]\n",
    "for i in range(3):\n",
    "    errors = []\n",
    "    prob = []\n",
    "    lambda_ = (word[i]/77)*(6/60)\n",
    "    for error in range(10):\n",
    "        p = ((lambda_**error)*(np.exp(-lambda_)))/(np.math.factorial(error))\n",
    "        prob.append(p)\n",
    "        errors.append(error)\n",
    "        s = sns.barplot(errors,prob,ax=ax[i])\n",
    "        s.set_xlabel('No. of Error',fontsize=16)\n",
    "        s.set_ylabel('Probability',fontsize=16)\n",
    "        s.set_title(f'Word: {word[i]}, Lambda: {lambda_:0.4f}',fontsize=20)    \n",
    "plt.show()"
   ]
  },
  {
   "cell_type": "markdown",
   "metadata": {},
   "source": [
    "### Problem Statement 9:"
   ]
  },
  {
   "cell_type": "markdown",
   "metadata": {},
   "source": [
    "#### Let the continuous random variable D denote the diameter of the hole drilled in an aluminum sheet. The target diameter to be achieved is 12.5mm. Random disturbances in the process often result in inaccuracy. Historical data shows that the distribution of D can be modelled by the PDF, f(d) = 20e−20(d−12.5), d ≥ 12.5. If a part with diameter > 12.6 mm needs to be scrapped, what is the proportion of those parts? What is the CDF when the diameter is of 11 mm?"
   ]
  },
  {
   "cell_type": "code",
   "execution_count": 1,
   "metadata": {},
   "outputs": [],
   "source": [
    "import sys\n",
    "from scipy.integrate import quad"
   ]
  },
  {
   "cell_type": "code",
   "execution_count": 5,
   "metadata": {},
   "outputs": [],
   "source": [
    "def intergrand(d):\n",
    "    return 20*(np.exp(-20*(d-12.5)))\n",
    "prop,err = quad(intergrand,12.5,12.6)"
   ]
  },
  {
   "cell_type": "code",
   "execution_count": 6,
   "metadata": {},
   "outputs": [
    {
     "name": "stdout",
     "output_type": "stream",
     "text": [
      "If a part with diameter > 12.6 mm needs to be scrapped, the proportion of those parts: 0.13533528323662825\n"
     ]
    }
   ],
   "source": [
    "print(f'If a part with diameter > 12.6 mm needs to be scrapped, the proportion of those parts: {1 - prop}')"
   ]
  },
  {
   "cell_type": "markdown",
   "metadata": {},
   "source": [
    "- Part 2"
   ]
  },
  {
   "cell_type": "markdown",
   "metadata": {},
   "source": [
    "`CDF when diameter is 11mm`\n",
    "\n",
    "f = -np.exp(-20*(d-11)), where d>=11"
   ]
  },
  {
   "cell_type": "markdown",
   "metadata": {},
   "source": [
    "### Problem Statement 10:\n",
    "#### Please compute the following:"
   ]
  },
  {
   "cell_type": "markdown",
   "metadata": {},
   "source": [
    "#### a) P(Z > 1.26), . P(Z < −0.86), P(Z > −1.37), P(−1.25 < Z < 0.37), . P(Z ≤ −4.6)"
   ]
  },
  {
   "cell_type": "code",
   "execution_count": 24,
   "metadata": {},
   "outputs": [
    {
     "name": "stdout",
     "output_type": "stream",
     "text": [
      "P(Z > 1.26) = 0.10383468112130045\n",
      "P(Z < −0.86) = 0.1948945212518084\n",
      "P(Z > −1.37), = 0.914656549178033\n",
      "P(−1.25 < Z < 0.37) = 0.5386589811336914\n",
      "P(Z <= -4.6) = 2.1124547025028537e-06\n"
     ]
    }
   ],
   "source": [
    "import scipy.stats as st\n",
    "print(\"P(Z > 1.26) =\", 1-(st.norm.cdf(1.26)))\n",
    "print(\"P(Z < −0.86) =\", (st.norm.cdf(-0.86)))\n",
    "print(\"P(Z > −1.37), =\", 1-(st.norm.cdf(-1.37)))\n",
    "print(\"P(−1.25 < Z < 0.37) =\", (st.norm.cdf(0.37))-(st.norm.cdf(-1.25)))\n",
    "print(\"P(Z <= -4.6) =\", (st.norm.cdf(-4.6)))"
   ]
  },
  {
   "cell_type": "markdown",
   "metadata": {},
   "source": [
    "#### b) Find the value z such that P(Z > z) = 0.05"
   ]
  },
  {
   "cell_type": "code",
   "execution_count": 7,
   "metadata": {},
   "outputs": [
    {
     "name": "stdout",
     "output_type": "stream",
     "text": [
      "The value of z when P(Z > z) = 1.6448536269514722\n"
     ]
    }
   ],
   "source": [
    "print(\"The value of z when P(Z > z) =\", st.norm.ppf(.95))"
   ]
  },
  {
   "cell_type": "markdown",
   "metadata": {},
   "source": [
    "#### c) Find the value of z such that P(−z < Z < z) = 0.99"
   ]
  },
  {
   "cell_type": "code",
   "execution_count": 27,
   "metadata": {},
   "outputs": [
    {
     "name": "stdout",
     "output_type": "stream",
     "text": [
      "z = 4\n"
     ]
    }
   ],
   "source": [
    "for i in range (0, 5):\n",
    "    if (st.norm.cdf(i)-st.norm.cdf(-i))==0.99:\n",
    "        break\n",
    "print(\"z =\", i)"
   ]
  },
  {
   "cell_type": "markdown",
   "metadata": {},
   "source": [
    "### Problem Statement 11:"
   ]
  },
  {
   "cell_type": "markdown",
   "metadata": {},
   "source": [
    "#### The current flow in a copper wire follow a normal distribution with a mean of 10 mA and a variance of 4 (mA).\n",
    "\n",
    "#### What is the probability that a current measurement will exceed 13 mA? What is the probability that a current measurement is between 9 and 11mA? Determine the current measurement which has a probability of 0.98."
   ]
  },
  {
   "cell_type": "code",
   "execution_count": 14,
   "metadata": {},
   "outputs": [
    {
     "name": "stdout",
     "output_type": "stream",
     "text": [
      "The probability that a current measurement will exceed 13 mA = 0.06680720126885809\n",
      "The probability that a current measurement is between 9 mA and 11 mA = 0.38292492254802624\n",
      "The current measurement which has a probability of 0.98 =  14.107497821263646 mA\n"
     ]
    }
   ],
   "source": [
    "import math\n",
    "mean=10\n",
    "variance=4\n",
    "standard_deviation=math.sqrt(variance)\n",
    "X1=13\n",
    "Z1=(X1-mean)/standard_deviation\n",
    "print(\"The probability that a current measurement will exceed 13 mA =\", 1-st.norm.cdf(Z1))\n",
    "X2=9\n",
    "X3=11\n",
    "Z2=(X2-mean)/standard_deviation\n",
    "Z3=(X3-mean)/standard_deviation\n",
    "print(\"The probability that a current measurement is between 9 mA and 11 mA =\", st.norm.cdf(Z3)-st.norm.cdf(Z2))\n",
    "Z4=st.norm.ppf(0.98)\n",
    "X4=(Z4*standard_deviation)+mean\n",
    "print(\"The current measurement which has a probability of 0.98 = \", X4, \"mA\")"
   ]
  },
  {
   "cell_type": "markdown",
   "metadata": {},
   "source": [
    "### Problem Statement 12:"
   ]
  },
  {
   "cell_type": "markdown",
   "metadata": {},
   "source": [
    "#### The shaft in a piston has its diameter normally distributed with a mean of 0.2508 inch and a standard deviation of 0.0005 inch. The specifications of the shaft are 0.2500 ∓ 0.0015 inch. What proportion of shafts are in sync with the specifications? If the process is centered so that the mean is equal to the target value of 0.2500, what proportion of shafts conform to the new specifications? What is your conclusion from this experiment?"
   ]
  },
  {
   "cell_type": "code",
   "execution_count": 20,
   "metadata": {},
   "outputs": [
    {
     "name": "stdout",
     "output_type": "stream",
     "text": [
      "The proportion of shafts that are in sync with the specifications = 91.924122831152 %\n",
      "If the process is centered so that the mean is equal to the target value of 0.2500, the proportion of shafts that conform to the new specifications is = 99.73002039367398 %\n"
     ]
    }
   ],
   "source": [
    "mean1=0.2508\n",
    "standard_deviation=0.0005\n",
    "x1=0.2500+0.0015\n",
    "x2=0.2500-0.0015\n",
    "z1=(x1-mean1)/standard_deviation\n",
    "z2=(x2-mean1)/standard_deviation\n",
    "print(\"The proportion of shafts that are in sync with the specifications =\", 100*(st.norm.cdf(z1)-st.norm.cdf(z2)), \"%\")\n",
    "mean2=0.2500\n",
    "z3=(x1-mean2)/standard_deviation\n",
    "z4=(x2-mean2)/standard_deviation\n",
    "print(\"If the process is centered so that the mean is equal to the target value of 0.2500, the proportion of shafts that conform to the new specifications is =\", 100*(st.norm.cdf(z3)-st.norm.cdf(z4)), \"%\")"
   ]
  },
  {
   "cell_type": "markdown",
   "metadata": {},
   "source": [
    "The conclusion from this experiment is that if the process is centered so that the mean is equal to the target value of 0.2500, the proportion of shafts that conform to the new specifications is greater than the situation when the proportion of shafts are in sync with the previous specifications."
   ]
  }
 ],
 "metadata": {
  "kernelspec": {
   "display_name": "Python 3",
   "language": "python",
   "name": "python3"
  },
  "language_info": {
   "codemirror_mode": {
    "name": "ipython",
    "version": 3
   },
   "file_extension": ".py",
   "mimetype": "text/x-python",
   "name": "python",
   "nbconvert_exporter": "python",
   "pygments_lexer": "ipython3",
   "version": "3.7.6"
  }
 },
 "nbformat": 4,
 "nbformat_minor": 4
}
